{
  "nbformat": 4,
  "nbformat_minor": 0,
  "metadata": {
    "colab": {
      "name": "Untitled0.ipynb",
      "provenance": [],
      "toc_visible": true,
      "authorship_tag": "ABX9TyNZBQiamAX+/e0Cju9Ud22a",
      "include_colab_link": true
    },
    "kernelspec": {
      "name": "python3",
      "display_name": "Python 3"
    },
    "language_info": {
      "name": "python"
    }
  },
  "cells": [
    {
      "cell_type": "markdown",
      "metadata": {
        "id": "view-in-github",
        "colab_type": "text"
      },
      "source": [
        "<a href=\"https://colab.research.google.com/github/seoseonho/python_lectures0627/blob/main/Untitled0.ipynb\" target=\"_parent\"><img src=\"https://colab.research.google.com/assets/colab-badge.svg\" alt=\"Open In Colab\"/></a>"
      ]
    },
    {
      "cell_type": "code",
      "execution_count": null,
      "metadata": {
        "id": "ILlKn9Gxj5KC"
      },
      "outputs": [],
      "source": [
        "# 제목1\n",
        "- 파이썬 입문\n",
        "\n",
        "### 소제목 1\n",
        "-여기는 소제목임다\n",
        "\n",
        "1 print(\"hello world\")"
      ]
    },
    {
      "cell_type": "code",
      "source": [
        "#제목2"
      ],
      "metadata": {
        "id": "rG3k8Kt2kfcR"
      },
      "execution_count": null,
      "outputs": []
    },
    {
      "cell_type": "code",
      "source": [
        "### 소제목1\n",
        "-라이브러리를 불러온다."
      ],
      "metadata": {
        "id": "BbfCsb-mktEA"
      },
      "execution_count": null,
      "outputs": []
    },
    {
      "cell_type": "code",
      "source": [
        "1 print(1+1)\n",
        "\n",
        "2"
      ],
      "metadata": {
        "id": "ho10YIOCkx_4"
      },
      "execution_count": null,
      "outputs": []
    },
    {
      "cell_type": "markdown",
      "source": [
        ""
      ],
      "metadata": {
        "id": "scYcSW5bsdmS"
      }
    },
    {
      "cell_type": "code",
      "source": [
        ""
      ],
      "metadata": {
        "id": "3Q6CsHwVkwkI"
      },
      "execution_count": null,
      "outputs": []
    }
  ]
}